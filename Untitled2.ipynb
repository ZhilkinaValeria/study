{
  "nbformat": 4,
  "nbformat_minor": 0,
  "metadata": {
    "colab": {
      "provenance": [],
      "authorship_tag": "ABX9TyNC283Qg+QbFhF2XIrHbx8H",
      "include_colab_link": true
    },
    "kernelspec": {
      "name": "python3",
      "display_name": "Python 3"
    },
    "language_info": {
      "name": "python"
    }
  },
  "cells": [
    {
      "cell_type": "markdown",
      "metadata": {
        "id": "view-in-github",
        "colab_type": "text"
      },
      "source": [
        "<a href=\"https://colab.research.google.com/github/ZhilkinaValeria/study/blob/main/Untitled2.ipynb\" target=\"_parent\"><img src=\"https://colab.research.google.com/assets/colab-badge.svg\" alt=\"Open In Colab\"/></a>"
      ]
    },
    {
      "cell_type": "code",
      "execution_count": null,
      "metadata": {
        "id": "JRfZnDGZbb8u"
      },
      "outputs": [],
      "source": [
        "word = 'test'\n",
        "length = len(word)\n",
        "middle = length // 2\n",
        "if length % 2 != 0:\n",
        "    result = word[middle]\n",
        "else:\n",
        "    result = word[middle-1:middle+1]\n",
        "result"
      ]
    }
  ]
}