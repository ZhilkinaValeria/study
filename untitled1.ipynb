{
  "nbformat": 4,
  "nbformat_minor": 0,
  "metadata": {
    "colab": {
      "provenance": [],
      "authorship_tag": "ABX9TyMoK8lBZnnH5qzayjBZEC3P",
      "include_colab_link": true
    },
    "kernelspec": {
      "name": "python3",
      "display_name": "Python 3"
    },
    "language_info": {
      "name": "python"
    }
  },
  "cells": [
    {
      "cell_type": "markdown",
      "metadata": {
        "id": "view-in-github",
        "colab_type": "text"
      },
      "source": [
        "<a href=\"https://colab.research.google.com/github/ZhilkinaValeria/study/blob/main/untitled1.ipynb\" target=\"_parent\"><img src=\"https://colab.research.google.com/assets/colab-badge.svg\" alt=\"Open In Colab\"/></a>"
      ]
    },
    {
      "cell_type": "code",
      "execution_count": null,
      "metadata": {
        "colab": {
          "base_uri": "https://localhost:8080/"
        },
        "id": "7ppp_Kls-Z8z",
        "outputId": "02c0ac46-1ef4-430c-d715-e6452ee1969b"
      },
      "outputs": [
        {
          "output_type": "stream",
          "name": "stdout",
          "text": [
            "{'milk15': False, 'cheese': True, 'sausage': False}\n"
          ]
        }
      ],
      "source": [
        "items = {\n",
        "    'milk15': {'name': 'молоко 1.5%', 'count': 34, 'price': 89.9},\n",
        "    'cheese': {'name': 'сыр молочный 1 кг.', 'count': 12, 'price': 990.9},\n",
        "    'sausage': {'name': 'колбаса 1 кг.', 'count': 122, 'price': 1990.9}\n",
        "}\n",
        "\n",
        "result = {key: True if value['count'] < 20 else False for key, value in items.items()}\n",
        "print(result)\n"
      ]
    },
    {
      "cell_type": "code",
      "source": [
        "items = {\n",
        "    'milk': {'price': {'shop1': 80, 'shop2': 85, 'shop3': 90}},\n",
        "    'bread': {'price': {'shop1': 25, 'shop2': 28, 'shop3': 30}},\n",
        "    'eggs': {'price': {'shop1': 50, 'shop2': 48, 'shop3': 52}},\n",
        "    'cheese': {'price': {'shop1': 150, 'shop2': 160, 'shop3': 155}},\n",
        "}\n",
        "\n",
        "total_costs = {}\n",
        "for shop in items['milk']['price']:\n",
        "    total_cost = 0\n",
        "    for item in items:\n",
        "        total_cost += items[item]['price'][shop]\n",
        "    total_costs[shop] = total_cost\n",
        "\n",
        "max_savings = max(total_costs.values())\n",
        "max_savings_shop = [shop for shop, cost in total_costs.items() if cost == max_savings]\n",
        "min_cost = min(total_costs.values())\n",
        "min_cost_shop = [shop for shop, cost in total_costs.items() if cost == min_cost]\n",
        "\n",
        "print(\"Стоимость покупок в каждом магазине:\")\n",
        "for shop, cost in total_costs.items():\n",
        "    print(f\"{shop}: {cost}\")\n",
        "\n",
        "print(f\"\\nМагазин, где можно сэкономить больше всего денег: {max_savings_shop[0]}\")\n",
        "print(f\"Магазин, где стоимость покупок минимальна: {min_cost_shop[0]}\")"
      ],
      "metadata": {
        "id": "muMkcROmap8S",
        "outputId": "9ff2f6c8-60b8-48b5-9eec-4e1654ec8186",
        "colab": {
          "base_uri": "https://localhost:8080/"
        }
      },
      "execution_count": 1,
      "outputs": [
        {
          "output_type": "stream",
          "name": "stdout",
          "text": [
            "Стоимость покупок в каждом магазине:\n",
            "shop1: 305\n",
            "shop2: 321\n",
            "shop3: 327\n",
            "\n",
            "Магазин, где можно сэкономить больше всего денег: shop3\n",
            "Магазин, где стоимость покупок минимальна: shop1\n"
          ]
        }
      ]
    }
  ]
}